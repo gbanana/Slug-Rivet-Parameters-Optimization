{
 "cells": [
  {
   "cell_type": "markdown",
   "metadata": {},
   "source": [
    "# extracting data from the files"
   ]
  },
  {
   "cell_type": "code",
   "execution_count": 1,
   "metadata": {
    "collapsed": true
   },
   "outputs": [],
   "source": [
    "import re\n",
    "import pandas as pd"
   ]
  },
  {
   "cell_type": "markdown",
   "metadata": {},
   "source": [
    "# use regex to get collect data from files"
   ]
  },
  {
   "cell_type": "code",
   "execution_count": 2,
   "metadata": {
    "collapsed": true
   },
   "outputs": [],
   "source": [
    "def getData(text):\n",
    "    s = re.search(r'[a-zA-Z]+.[a-zA-Z]+', text)\n",
    "    colName = ''\n",
    "    data = []\n",
    "    if type(s) is not None:\n",
    "        colName = s.group()\n",
    "    d = re.findall(r'\\d+\\.?\\d*', text)\n",
    "    if (type(d)) is not None:\n",
    "        data = [float(x) for x in d]\n",
    "    return colName, data"
   ]
  },
  {
   "cell_type": "code",
   "execution_count": 3,
   "metadata": {
    "collapsed": true
   },
   "outputs": [],
   "source": [
    "def getDataFromFile(fileName):\n",
    "    x = [1, 2, 3, 4, -3]\n",
    "    with open(fileName, 'r') as f:\n",
    "        lines = f.readlines()\n",
    "    colName = []\n",
    "    data = []\n",
    "    count = 0\n",
    "    for i in x:\n",
    "        c, d = getData(lines[i])\n",
    "        colName.append(c)\n",
    "        data.append(d)\n",
    "        count += 1\n",
    "    return colName, data    "
   ]
  },
  {
   "cell_type": "markdown",
   "metadata": {},
   "source": [
    "# change the data to dataframe"
   ]
  },
  {
   "cell_type": "code",
   "execution_count": 4,
   "metadata": {
    "collapsed": true
   },
   "outputs": [],
   "source": [
    "def changeToDataFrame(colName, data):\n",
    "    df = pd.DataFrame(data)\n",
    "    df = df.transpose()\n",
    "    df.columns = colName\n",
    "    return df"
   ]
  },
  {
   "cell_type": "markdown",
   "metadata": {},
   "source": [
    "# concat all the DataFrame to one"
   ]
  },
  {
   "cell_type": "code",
   "execution_count": 5,
   "metadata": {
    "collapsed": true
   },
   "outputs": [],
   "source": [
    "def getFinalDataFrame(fileNames):\n",
    "    df = []\n",
    "    for fileName in fileNames:\n",
    "        colName, data = getDataFromFile(fileName)\n",
    "        temp = pd.DataFrame(data)\n",
    "        temp = temp.transpose()\n",
    "        temp.columns = colName\n",
    "        df.append(temp)\n",
    "    res = pd.concat(df)\n",
    "    length = res.shape[0]\n",
    "    index = range(1, length + 1)\n",
    "    res.index = index\n",
    "    return res"
   ]
  },
  {
   "cell_type": "markdown",
   "metadata": {},
   "source": [
    "# program entry"
   ]
  },
  {
   "cell_type": "code",
   "execution_count": 6,
   "metadata": {
    "collapsed": false
   },
   "outputs": [
    {
     "data": {
      "text/html": [
       "<div>\n",
       "<style>\n",
       "    .dataframe thead tr:only-child th {\n",
       "        text-align: right;\n",
       "    }\n",
       "\n",
       "    .dataframe thead th {\n",
       "        text-align: left;\n",
       "    }\n",
       "\n",
       "    .dataframe tbody tr th {\n",
       "        vertical-align: top;\n",
       "    }\n",
       "</style>\n",
       "<table border=\"1\" class=\"dataframe\">\n",
       "  <thead>\n",
       "    <tr style=\"text-align: right;\">\n",
       "      <th></th>\n",
       "      <th>theta_upper</th>\n",
       "      <th>h_upper</th>\n",
       "      <th>theta_lower</th>\n",
       "      <th>h_lower</th>\n",
       "      <th>average</th>\n",
       "    </tr>\n",
       "  </thead>\n",
       "  <tbody>\n",
       "    <tr>\n",
       "      <th>1</th>\n",
       "      <td>90.0</td>\n",
       "      <td>1.0</td>\n",
       "      <td>66.0</td>\n",
       "      <td>1.5</td>\n",
       "      <td>2.83</td>\n",
       "    </tr>\n",
       "    <tr>\n",
       "      <th>2</th>\n",
       "      <td>90.0</td>\n",
       "      <td>1.0</td>\n",
       "      <td>66.0</td>\n",
       "      <td>1.6</td>\n",
       "      <td>2.73</td>\n",
       "    </tr>\n",
       "    <tr>\n",
       "      <th>3</th>\n",
       "      <td>90.0</td>\n",
       "      <td>1.0</td>\n",
       "      <td>66.0</td>\n",
       "      <td>1.7</td>\n",
       "      <td>2.68</td>\n",
       "    </tr>\n",
       "    <tr>\n",
       "      <th>4</th>\n",
       "      <td>90.0</td>\n",
       "      <td>1.0</td>\n",
       "      <td>66.0</td>\n",
       "      <td>1.8</td>\n",
       "      <td>2.68</td>\n",
       "    </tr>\n",
       "    <tr>\n",
       "      <th>5</th>\n",
       "      <td>90.0</td>\n",
       "      <td>1.0</td>\n",
       "      <td>66.0</td>\n",
       "      <td>1.9</td>\n",
       "      <td>2.62</td>\n",
       "    </tr>\n",
       "  </tbody>\n",
       "</table>\n",
       "</div>"
      ],
      "text/plain": [
       "   theta_upper  h_upper  theta_lower  h_lower  average\n",
       "1         90.0      1.0         66.0      1.5     2.83\n",
       "2         90.0      1.0         66.0      1.6     2.73\n",
       "3         90.0      1.0         66.0      1.7     2.68\n",
       "4         90.0      1.0         66.0      1.8     2.68\n",
       "5         90.0      1.0         66.0      1.9     2.62"
      ]
     },
     "execution_count": 6,
     "metadata": {},
     "output_type": "execute_result"
    }
   ],
   "source": [
    "fileNames = ['result_hLower.csv', 'result_hUpper.csv', 'result_thetaLower.csv', 'result_thetaUpper.csv']\n",
    "df = getFinalDataFrame(fileNames)\n",
    "df.head()"
   ]
  },
  {
   "cell_type": "code",
   "execution_count": 7,
   "metadata": {
    "collapsed": false
   },
   "outputs": [
    {
     "name": "stdout",
     "output_type": "stream",
     "text": [
      "<class 'pandas.core.frame.DataFrame'>\n",
      "RangeIndex: 122 entries, 1 to 122\n",
      "Data columns (total 5 columns):\n",
      "theta_upper    122 non-null float64\n",
      "h_upper        122 non-null float64\n",
      "theta_lower    122 non-null float64\n",
      "h_lower        122 non-null float64\n",
      "average        122 non-null float64\n",
      "dtypes: float64(5)\n",
      "memory usage: 4.8 KB\n"
     ]
    }
   ],
   "source": [
    "df.info()"
   ]
  },
  {
   "cell_type": "markdown",
   "metadata": {},
   "source": [
    "# save data to csv_file"
   ]
  },
  {
   "cell_type": "code",
   "execution_count": 8,
   "metadata": {
    "collapsed": true
   },
   "outputs": [],
   "source": [
    "df.to_csv('collectedData.csv')"
   ]
  }
 ],
 "metadata": {
  "kernelspec": {
   "display_name": "Python 2",
   "language": "python",
   "name": "python2"
  },
  "language_info": {
   "codemirror_mode": {
    "name": "ipython",
    "version": 2
   },
   "file_extension": ".py",
   "mimetype": "text/x-python",
   "name": "python",
   "nbconvert_exporter": "python",
   "pygments_lexer": "ipython2",
   "version": "2.7.13"
  }
 },
 "nbformat": 4,
 "nbformat_minor": 2
}
